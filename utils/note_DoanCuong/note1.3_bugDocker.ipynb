{
 "cells": [
  {
   "cell_type": "markdown",
   "metadata": {},
   "source": [
    "```\n",
    "Vẫn bug: POST http://127.0.0.1:25039/chat\n",
    "Error: socket hang up\n",
    "Request Headers\n",
    "Content-Type: application/json\n",
    "User-Agent: PostmanRuntime/7.43.0\n",
    "Accept: */*\n",
    "Cache-Control: no-cache\n",
    "Postman-Token: 91246568-07d1-4d86-8044-ef2e1d2e0853\n",
    "Host: 127.0.0.1:25039\n",
    "Accept-Encoding: gzip, deflate, br\n",
    "Connection: keep-alive\n",
    "Request Body\n",
    "\n",
    "\n",
    "\n",
    "Check @backend \n",
    "```"
   ]
  },
  {
   "cell_type": "markdown",
   "metadata": {},
   "source": [
    "```\n",
    "OST http://127.0.0.1:25039/chat\n",
    "Error: connect ECONNREFUSED 127.0.0.1:25039\n",
    "Request Headers\n",
    "Content-Type: application/json\n",
    "User-Agent: PostmanRuntime/7.43.0\n",
    "Accept: */*\n",
    "Cache-Control: no-cache\n",
    "Postman-Token: ab0c86dd-e028-4539-aa5b-c5980abbbd19\n",
    "Host: 127.0.0.1:25039\n",
    "Accept-Encoding: gzip, deflate, br\n",
    "Connection: keep-alive\n",
    "Request Body\n",
    "\n",
    "\n",
    "BUG \n",
    "````"
   ]
  },
  {
   "cell_type": "markdown",
   "metadata": {},
   "source": []
  },
  {
   "cell_type": "code",
   "execution_count": null,
   "metadata": {},
   "outputs": [],
   "source": []
  }
 ],
 "metadata": {
  "language_info": {
   "name": "python"
  }
 },
 "nbformat": 4,
 "nbformat_minor": 2
}
