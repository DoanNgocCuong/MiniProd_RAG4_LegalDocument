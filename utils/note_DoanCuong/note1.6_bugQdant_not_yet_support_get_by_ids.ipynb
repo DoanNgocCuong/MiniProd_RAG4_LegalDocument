{
 "cells": [
  {
   "cell_type": "markdown",
   "metadata": {},
   "source": [
    "\n",
    "\n",
    "Qdrant hỗ trợ các phương thức chính sau để truy xuất dữ liệu:\n",
    "\n",
    "1. `search` - Tìm kiếm vector gần nhất:\n",
    "```python\n",
    "results = vector_db.db.search(\n",
    "    query_vector=vector,\n",
    "    limit=5\n",
    ")\n",
    "```\n",
    "\n",
    "2. `scroll` - Lấy documents theo điều kiện:\n",
    "```python\n",
    "results = vector_db.db.client.scroll(\n",
    "    collection_name=collection_name,\n",
    "    scroll_filter=models.Filter(\n",
    "        must=[\n",
    "            models.FieldCondition(\n",
    "                key=\"field_name\",\n",
    "                match={\"value\": \"something\"}\n",
    "            )\n",
    "        ]\n",
    "    ),\n",
    "    limit=5\n",
    ")\n",
    "```\n",
    "\n",
    "3. `retrieve` - Lấy documents theo similarity:\n",
    "```python\n",
    "results = vector_db.db.similarity_search(\n",
    "    query=\"search text\",\n",
    "    k=5\n",
    ")\n",
    "```\n",
    "\n",
    "4. `get` - Lấy một document theo ID:\n",
    "```python:deploy/backend/rag_pipeline/back.py\n",
    "doc = vector_db.db.get(\n",
    "    ids=single_id\n",
    ")\n",
    "```\n",
    "\n",
    "Vì vậy, thay vì dùng `get_by_ids` (không được hỗ trợ), ta có thể:\n",
    "1. Dùng `get` cho từng ID riêng lẻ\n",
    "2. Hoặc dùng `scroll` với filter theo range của IDs\n",
    "3. Hoặc dùng `search` với payload filter\n",
    "\n",
    "Đây là lý do tại sao code trước đó của chúng ta bị lỗi - chúng ta đang cố sử dụng một phương thức không tồn tại trong API của Qdrant.\n"
   ]
  },
  {
   "cell_type": "code",
   "execution_count": null,
   "metadata": {},
   "outputs": [],
   "source": []
  }
 ],
 "metadata": {
  "language_info": {
   "name": "python"
  }
 },
 "nbformat": 4,
 "nbformat_minor": 2
}
