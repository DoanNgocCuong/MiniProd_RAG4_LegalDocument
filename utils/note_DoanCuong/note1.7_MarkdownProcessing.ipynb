{
 "cells": [
  {
   "cell_type": "markdown",
   "metadata": {},
   "source": [
    "BA note lại: \n",
    "- Đoàn Cường: update link trên phản hồi chatbot, thêm responding trong quá trình đợi phản hồi, update UI hiển thị markdown (in đậm các thứ). \n",
    "- ...\n",
    "- ...."
   ]
  },
  {
   "cell_type": "markdown",
   "metadata": {},
   "source": [
    "\n",
    "\n",
    "Để xử lý text có định dạng markdown lên UI một cách đầy đủ, chúng ta có thể sử dụng thư viện như `marked` hoặc tự xây dựng một hàm xử lý. Dưới đây là cách triển khai:\n",
    "\n",
    "### 1. Sử dụng thư viện marked (Recommended)\n",
    "\n",
    "```html:deploy/frontend/index.html\n",
    "<!-- Thêm thư viện marked vào head -->\n",
    "<script src=\"https://cdn.jsdelivr.net/npm/marked/marked.min.js\"></script>\n",
    "```\n",
    "\n",
    "```javascript:deploy/frontend/script.js\n",
    "function displayMessage(text, sender) {\n",
    "    const messageDiv = document.createElement('div');\n",
    "    messageDiv.className = `message ${sender}`;\n",
    "    \n",
    "    // Sử dụng marked để chuyển đổi markdown thành HTML\n",
    "    const formattedText = marked.parse(text);\n",
    "    messageDiv.innerHTML = formattedText;\n",
    "    \n",
    "    chatWindow.appendChild(messageDiv);\n",
    "    chatWindow.scrollTop = chatWindow.scrollHeight;\n",
    "}\n",
    "```\n"
   ]
  },
  {
   "cell_type": "markdown",
   "metadata": {},
   "source": [
    "- test: Liệt kê 5 THÔNG TIN về CMC và in đậm nó\n",
    "\n",
    "Bật thêm logger của app.py\n",
    "```python:deploy/backend/app.py\n",
    "from flask import Flask, request, jsonify\n",
    "from flask_cors import CORS\n",
    "from rag_pipeline.back import LLMHandler, VectorDatabase, QuestionAnsweringChain\n",
    "from dotenv import load_dotenv\n",
    "import os\n",
    "import logging\n",
    "import sys\n",
    "\n",
    "# Set console output encoding to UTF-8 để khi docker compose nó log ra được port 3000\n",
    "sys.stdout.reconfigure(encoding='utf-8')\n",
    "\n",
    "# Set up detailed logging\n",
    "logging.basicConfig(\n",
    "    level=logging.INFO,\n",
    "    format='%(asctime)s - %(levelname)s - %(message)s',\n",
    "    handlers=[logging.StreamHandler(sys.stdout)]\n",
    ")\n",
    "logger = logging.getLogger(__name__)\n",
    "\n",
    "\n",
    "    if not question:\n",
    "        logger.warning(\"No question provided in the request\")  # Log warning for missing question\n",
    "        return jsonify({\"error\": \"No question provided\"}), 400\n",
    "\n",
    "    try:\n",
    "        logger.info(\"Processing question...\")  # Log before processing\n",
    "        response, extracted_links = qa_chain.run(question)\n",
    "        logger.info(\"Question processed successfully\")  # Log successful processing\n",
    "        logger.info(f\"Response: {response}\")\n",
    "        logger.info(f\"Extracted links: {extracted_links}\")\n",
    "        return jsonify({\n",
    "            \"response\": response,\n",
    "            \"links\": extracted_links\n",
    "        })\n",
    "```\n"
   ]
  },
  {
   "cell_type": "code",
   "execution_count": null,
   "metadata": {},
   "outputs": [],
   "source": []
  }
 ],
 "metadata": {
  "language_info": {
   "name": "python"
  }
 },
 "nbformat": 4,
 "nbformat_minor": 2
}
